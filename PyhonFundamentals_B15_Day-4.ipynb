{
 "cells": [
  {
   "cell_type": "code",
   "execution_count": null,
   "metadata": {},
   "outputs": [],
   "source": [
    "## Python Fundamentals Day-4 B-15, Training By Mr. Faiyaz ##"
   ]
  },
  {
   "cell_type": "code",
   "execution_count": null,
   "metadata": {},
   "outputs": [],
   "source": [
    "Introduction to list Data Types: "
   ]
  },
  {
   "cell_type": "code",
   "execution_count": null,
   "metadata": {},
   "outputs": [],
   "source": [
    "Defination of List Data Type:- \n",
    "    \n",
    "    A List is nothing but a collection of items in a particular order.\n",
    "    \n",
    "    List data type is classified as a muatable data type:(Edit/Modify alter and reassign)\n",
    "        \n",
    "    List is defined by using --- [] square brackets."
   ]
  },
  {
   "cell_type": "code",
   "execution_count": 1,
   "metadata": {},
   "outputs": [
    {
     "name": "stdout",
     "output_type": "stream",
     "text": [
      "['ravi', 'saumya', 'shravya', 'suman', 'aarav', 'anu']\n"
     ]
    }
   ],
   "source": [
    "students = ['ravi','saumya','shravya','suman','aarav','anu'] # 0,1,2,3.....a list is created\n",
    "print(students)"
   ]
  },
  {
   "cell_type": "code",
   "execution_count": 2,
   "metadata": {},
   "outputs": [
    {
     "data": {
      "text/plain": [
       "list"
      ]
     },
     "execution_count": 2,
     "metadata": {},
     "output_type": "execute_result"
    }
   ],
   "source": [
    "type(students) # Type function is used to know what kind of datatype is students variable using or assigned."
   ]
  },
  {
   "cell_type": "code",
   "execution_count": null,
   "metadata": {},
   "outputs": [],
   "source": [
    "Introduction to Indexing:"
   ]
  },
  {
   "cell_type": "code",
   "execution_count": null,
   "metadata": {},
   "outputs": [],
   "source": [
    "Indexing will starts like: 0,1,2,3.....!! +ve Indexing #0,1,2,3,4.....is increasing series of numbers."
   ]
  },
  {
   "cell_type": "code",
   "execution_count": null,
   "metadata": {},
   "outputs": [],
   "source": [
    "Req : I want to access the name aarav from the list.\n",
    "    Sol : It will be done by using the concept of Indexing."
   ]
  },
  {
   "cell_type": "code",
   "execution_count": 4,
   "metadata": {},
   "outputs": [
    {
     "name": "stdout",
     "output_type": "stream",
     "text": [
      "aarav\n"
     ]
    }
   ],
   "source": [
    "students = ['ravi','saumya','shravya','suman','aarav','anu'] # Indexing in list starts from 0 Zero so basically we \n",
    "print(students[4])                                           # start to count from 0"
   ]
  },
  {
   "cell_type": "code",
   "execution_count": 7,
   "metadata": {},
   "outputs": [
    {
     "name": "stdout",
     "output_type": "stream",
     "text": [
      "suman\n"
     ]
    }
   ],
   "source": [
    "print(students[3])"
   ]
  },
  {
   "cell_type": "code",
   "execution_count": 8,
   "metadata": {},
   "outputs": [
    {
     "name": "stdout",
     "output_type": "stream",
     "text": [
      "anu\n"
     ]
    }
   ],
   "source": [
    "print(students[5])"
   ]
  },
  {
   "cell_type": "code",
   "execution_count": 9,
   "metadata": {},
   "outputs": [
    {
     "name": "stdout",
     "output_type": "stream",
     "text": [
      "anu\n"
     ]
    }
   ],
   "source": [
    "print(students[-1]) # -ve Indexing also used in list. It starts from -symbol e.g:- -1,-2,-3,-4"
   ]
  },
  {
   "cell_type": "code",
   "execution_count": null,
   "metadata": {},
   "outputs": [],
   "source": [
    "How to reassign, add and delete elements in a list? **** Imp Interview Ques ****"
   ]
  },
  {
   "cell_type": "code",
   "execution_count": 11,
   "metadata": {},
   "outputs": [
    {
     "name": "stdout",
     "output_type": "stream",
     "text": [
      "['aarav', 'ena', 'ujjawal', 'ravi', 'malik', 'anu']\n"
     ]
    }
   ],
   "source": [
    "my_students = ['aarav','ena','ujjawal','ravi','malik','anu']\n",
    "print(my_students)"
   ]
  },
  {
   "cell_type": "code",
   "execution_count": null,
   "metadata": {},
   "outputs": [],
   "source": [
    "Req : anu name should be replaced with suman\n",
    "    this will be done by the reassignment of value."
   ]
  },
  {
   "cell_type": "code",
   "execution_count": 12,
   "metadata": {},
   "outputs": [
    {
     "name": "stdout",
     "output_type": "stream",
     "text": [
      "['aarav', 'ena', 'ujjawal', 'ravi', 'malik', 'suman']\n"
     ]
    }
   ],
   "source": [
    "my_students[5] = 'suman' # Here we reassigned the value to 5th element. from anu to suman in list.\n",
    "print(my_students)"
   ]
  },
  {
   "cell_type": "code",
   "execution_count": null,
   "metadata": {},
   "outputs": [],
   "source": [
    "2. Req : Now addition of a new student to the list\n",
    "    It will be done by method called append\n",
    "    by using append the element, it will be added at the end of the list by default."
   ]
  },
  {
   "cell_type": "code",
   "execution_count": 13,
   "metadata": {},
   "outputs": [
    {
     "name": "stdout",
     "output_type": "stream",
     "text": [
      "['aarav', 'ena', 'ujjawal', 'ravi', 'malik', 'suman', 'savita']\n"
     ]
    }
   ],
   "source": [
    "my_students.append('savita')\n",
    "print(my_students)"
   ]
  },
  {
   "cell_type": "code",
   "execution_count": 14,
   "metadata": {},
   "outputs": [
    {
     "name": "stdout",
     "output_type": "stream",
     "text": [
      "['aarav', 'saanvi', 'ena', 'ujjawal', 'ravi', 'malik', 'suman', 'savita']\n"
     ]
    }
   ],
   "source": [
    "my_students.insert(1,'saanvi')\n",
    "print(my_students)"
   ]
  },
  {
   "cell_type": "code",
   "execution_count": null,
   "metadata": {},
   "outputs": [],
   "source": [
    "3. # How to delete elements from the list : suman"
   ]
  },
  {
   "cell_type": "code",
   "execution_count": 15,
   "metadata": {},
   "outputs": [
    {
     "name": "stdout",
     "output_type": "stream",
     "text": [
      "['aarav', 'saanvi', 'ena', 'ujjawal', 'ravi', 'malik', 'savita']\n"
     ]
    }
   ],
   "source": [
    "del my_students[6]\n",
    "print(my_students)"
   ]
  },
  {
   "cell_type": "code",
   "execution_count": 16,
   "metadata": {},
   "outputs": [
    {
     "name": "stdout",
     "output_type": "stream",
     "text": [
      "savita\n"
     ]
    }
   ],
   "source": [
    "# By Using pop method # By default pop will remove last element from the list.\n",
    "x=my_students.pop()\n",
    "print(x)"
   ]
  },
  {
   "cell_type": "code",
   "execution_count": 17,
   "metadata": {},
   "outputs": [
    {
     "name": "stdout",
     "output_type": "stream",
     "text": [
      "['aarav', 'saanvi', 'ena', 'ujjawal', 'ravi', 'malik']\n"
     ]
    }
   ],
   "source": [
    "print(my_students)"
   ]
  },
  {
   "cell_type": "code",
   "execution_count": 19,
   "metadata": {},
   "outputs": [
    {
     "name": "stdout",
     "output_type": "stream",
     "text": [
      "['aarav', 'saanvi', 'ravi', 'malik']\n"
     ]
    }
   ],
   "source": [
    "my_students.pop(2) # To remove the specific element from the list use its index number.\n",
    "print(my_students)"
   ]
  },
  {
   "cell_type": "code",
   "execution_count": null,
   "metadata": {},
   "outputs": [],
   "source": [
    "## pop method does not delete the elements permanently from the list. it creates a CC carbon copy internally."
   ]
  },
  {
   "cell_type": "code",
   "execution_count": null,
   "metadata": {},
   "outputs": [],
   "source": [
    "# Today's Practice # 03/04/2020"
   ]
  },
  {
   "cell_type": "code",
   "execution_count": null,
   "metadata": {},
   "outputs": [],
   "source": [
    "First creation of a List."
   ]
  },
  {
   "cell_type": "code",
   "execution_count": 20,
   "metadata": {},
   "outputs": [
    {
     "name": "stdout",
     "output_type": "stream",
     "text": [
      "['rice', 'wheat', 'cereals', 'flour', 'fruit', 'vegetables', 'burgers']\n"
     ]
    }
   ],
   "source": [
    "my_food = ['rice','wheat','cereals','flour','fruit','vegetables','burgers']\n",
    "print(my_food)"
   ]
  },
  {
   "cell_type": "code",
   "execution_count": 21,
   "metadata": {},
   "outputs": [
    {
     "data": {
      "text/plain": [
       "list"
      ]
     },
     "execution_count": 21,
     "metadata": {},
     "output_type": "execute_result"
    }
   ],
   "source": [
    "type(my_food) # To check the type of variable defined"
   ]
  },
  {
   "cell_type": "code",
   "execution_count": 23,
   "metadata": {},
   "outputs": [
    {
     "name": "stdout",
     "output_type": "stream",
     "text": [
      "cereals\n"
     ]
    }
   ],
   "source": [
    "print(my_food[2]) # To check the index numbers of elements in list."
   ]
  },
  {
   "cell_type": "code",
   "execution_count": 24,
   "metadata": {},
   "outputs": [
    {
     "name": "stdout",
     "output_type": "stream",
     "text": [
      "burgers\n"
     ]
    }
   ],
   "source": [
    "print(my_food[6])"
   ]
  },
  {
   "cell_type": "code",
   "execution_count": 25,
   "metadata": {},
   "outputs": [
    {
     "name": "stdout",
     "output_type": "stream",
     "text": [
      "fruit\n"
     ]
    }
   ],
   "source": [
    "print(my_food[-3]) # Check by Negative indexing"
   ]
  },
  {
   "cell_type": "code",
   "execution_count": 27,
   "metadata": {},
   "outputs": [
    {
     "name": "stdout",
     "output_type": "stream",
     "text": [
      "['rice', 'wheat', 'cereals', 'flour', 'fruit', 'vegetables', 'aloo tikki']\n"
     ]
    }
   ],
   "source": [
    "my_food[6]='aloo tikki' # Reassigned or replacement of element in list.\n",
    "print(my_food)"
   ]
  },
  {
   "cell_type": "code",
   "execution_count": 28,
   "metadata": {},
   "outputs": [
    {
     "name": "stdout",
     "output_type": "stream",
     "text": [
      "['rice', 'wheat', 'cereals', 'almonds', 'fruit', 'vegetables', 'aloo tikki']\n"
     ]
    }
   ],
   "source": [
    "my_food[3]='almonds'\n",
    "print(my_food)"
   ]
  },
  {
   "cell_type": "code",
   "execution_count": 29,
   "metadata": {},
   "outputs": [
    {
     "name": "stdout",
     "output_type": "stream",
     "text": [
      "['rice', 'wheat', 'cereals', 'almonds', 'fruit', 'vegetables', 'aloo tikki', 'maggie']\n"
     ]
    }
   ],
   "source": [
    "my_food.append('maggie') # Addition new element to the list. By default append add the element to the end of the list.\n",
    "print(my_food)"
   ]
  },
  {
   "cell_type": "code",
   "execution_count": 30,
   "metadata": {},
   "outputs": [
    {
     "name": "stdout",
     "output_type": "stream",
     "text": [
      "['rice', 'wheat', 'cereals', 'almonds', 'fruit', 'vegetables', 'aloo tikki', 'maggie', 'red wine']\n"
     ]
    }
   ],
   "source": [
    "my_food.append('red wine')\n",
    "print(my_food)"
   ]
  },
  {
   "cell_type": "code",
   "execution_count": 31,
   "metadata": {},
   "outputs": [
    {
     "name": "stdout",
     "output_type": "stream",
     "text": [
      "['rice', 'fresh beer', 'wheat', 'cereals', 'almonds', 'fruit', 'vegetables', 'aloo tikki', 'maggie', 'red wine']\n"
     ]
    }
   ],
   "source": [
    "my_food.insert(1,'fresh beer') # Insertion of element to the first index of the list.\n",
    "print(my_food)                 # we can insert the element anywhere by using index number in list."
   ]
  },
  {
   "cell_type": "code",
   "execution_count": 32,
   "metadata": {},
   "outputs": [
    {
     "name": "stdout",
     "output_type": "stream",
     "text": [
      "['rice', 'wheat', 'cereals', 'almonds', 'fruit', 'vegetables', 'aloo tikki', 'maggie', 'red wine']\n"
     ]
    }
   ],
   "source": [
    "del my_food[1] # Deletion of element from first index you can delete from any index by using [4] index number of element.\n",
    "print(my_food)"
   ]
  },
  {
   "cell_type": "code",
   "execution_count": 33,
   "metadata": {},
   "outputs": [
    {
     "name": "stdout",
     "output_type": "stream",
     "text": [
      "['rice', 'wheat', 'cereals', 'almonds', 'fruit', 'vegetables', 'aloo tikki', 'maggie']\n"
     ]
    }
   ],
   "source": [
    "my_food.pop() # pop method by default remove the last element of the list.\n",
    "print(my_food)"
   ]
  },
  {
   "cell_type": "code",
   "execution_count": 34,
   "metadata": {},
   "outputs": [
    {
     "name": "stdout",
     "output_type": "stream",
     "text": [
      "['rice', 'wheat', 'cereals', 'almonds', 'vegetables', 'aloo tikki', 'maggie']\n"
     ]
    }
   ],
   "source": [
    "my_food.pop(4) # With pop method we can remove any of the element by using index number .pop(3)\n",
    "print(my_food)"
   ]
  },
  {
   "cell_type": "code",
   "execution_count": null,
   "metadata": {},
   "outputs": [],
   "source": []
  }
 ],
 "metadata": {
  "kernelspec": {
   "display_name": "Python 3",
   "language": "python",
   "name": "python3"
  },
  "language_info": {
   "codemirror_mode": {
    "name": "ipython",
    "version": 3
   },
   "file_extension": ".py",
   "mimetype": "text/x-python",
   "name": "python",
   "nbconvert_exporter": "python",
   "pygments_lexer": "ipython3",
   "version": "3.7.6"
  }
 },
 "nbformat": 4,
 "nbformat_minor": 4
}
