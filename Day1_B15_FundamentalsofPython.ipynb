{
 "cells": [
  {
   "cell_type": "code",
   "execution_count": null,
   "metadata": {},
   "outputs": [],
   "source": []
  },
  {
   "cell_type": "code",
   "execution_count": null,
   "metadata": {},
   "outputs": [],
   "source": [
    "Batch 15, Morning Session, 8:30 Am - 9:15 AM -- Day-1, Fundamentals of Python."
   ]
  },
  {
   "cell_type": "code",
   "execution_count": null,
   "metadata": {},
   "outputs": [],
   "source": [
    "Setting up the Environment."
   ]
  },
  {
   "cell_type": "code",
   "execution_count": null,
   "metadata": {},
   "outputs": [],
   "source": [
    "1. Hi Speed Internet Connectivity\n",
    "2. Minimum 4 GB RAM and with OS Windows -10 recommended."
   ]
  },
  {
   "cell_type": "code",
   "execution_count": null,
   "metadata": {},
   "outputs": [],
   "source": [
    "Installation Setup Process."
   ]
  },
  {
   "cell_type": "code",
   "execution_count": null,
   "metadata": {},
   "outputs": [],
   "source": [
    "Visit the below Sites.\n",
    "1. www.anaconda.com\n",
    "2. www.github.com"
   ]
  },
  {
   "cell_type": "code",
   "execution_count": null,
   "metadata": {},
   "outputs": [],
   "source": [
    "# Installation Process Of Anaconda.\n",
    "1. Open www.anaconda.com\n",
    "    2. go to right side corner of webpage and select Download there\n",
    "        3. Choose Version 3.7 (Latest Version) for Windows Platform\n",
    "            4. Hit The Download Button\n",
    "                5. Run It in System\n",
    "                    6. Next---Next---Next---Installed ----Finished\n",
    "    # Create a Shortcut on Desktop\n",
    "            "
   ]
  },
  {
   "cell_type": "code",
   "execution_count": null,
   "metadata": {},
   "outputs": [],
   "source": [
    "# Open Anaconda Navigatorabs\n",
    " 1. Select Jupyter Notebook and Launch it.\n",
    "    2. Home Page will open in Dafault Browser I.E or Chrome \n",
    "        3. Then select Python3 Notebook There.\n",
    "            4. Rename the file daywise i.e : Day1_B15_filename\n",
    "                "
   ]
  },
  {
   "cell_type": "code",
   "execution_count": null,
   "metadata": {},
   "outputs": [],
   "source": [
    "# To download the noteboook need to follow the below steps.\n",
    "     1. Go to File Menu Option\n",
    "     2. Click on file\n",
    "     3. Choose the Option Download as\n",
    "     4. select Notebook(.ipynb) option there.\n",
    "     5. file will be downloaded in download folder"
   ]
  },
  {
   "cell_type": "code",
   "execution_count": null,
   "metadata": {},
   "outputs": [],
   "source": [
    "##  Section = 2 ##"
   ]
  },
  {
   "cell_type": "code",
   "execution_count": null,
   "metadata": {},
   "outputs": [],
   "source": [
    "# Setup Github #"
   ]
  },
  {
   "cell_type": "code",
   "execution_count": null,
   "metadata": {},
   "outputs": [],
   "source": [
    "Brief Desp : It is considered as online Code storage repository. "
   ]
  },
  {
   "cell_type": "code",
   "execution_count": null,
   "metadata": {},
   "outputs": [],
   "source": [
    "# Setup Process\n",
    "    1. Go to WWW.github.com\n",
    "    2. sign in or sign up there \n",
    "    # for sign up option #\n",
    "    1. Fill the details Like Complete Name\n",
    "    2. email Id\n",
    "    3. Password\n",
    "    4. Captcha to verify that you are not a robot or automated bug system to enter into the site.\n",
    "    5. Id created got a mail to verify on your email id verify from that link also.\n",
    "    \n",
    "    "
   ]
  },
  {
   "cell_type": "code",
   "execution_count": null,
   "metadata": {},
   "outputs": [],
   "source": [
    "# Now Login with Github Credentials\n",
    " 1. create Repoisitory name\n",
    "    2. Fill The Desp: All my Python Practice file will be saved here\n",
    "        3. check the Public radio button\n",
    "          4. click the checkbox button -- iniatlize the repositiory\n",
    "            5. Upload your Python Code file created in anaconda from download location.\n",
    "             6. Select File and Upload"
   ]
  },
  {
   "cell_type": "code",
   "execution_count": null,
   "metadata": {},
   "outputs": [],
   "source": [
    "## Share the Github Location or File path Daily via e-mail\n",
    "e-mail id : codetraining01@gmail.com\n",
    "    with the details of batch : Batch Number :B15\n",
    "            and topic detail."
   ]
  },
  {
   "cell_type": "code",
   "execution_count": null,
   "metadata": {},
   "outputs": [],
   "source": []
  },
  {
   "cell_type": "code",
   "execution_count": null,
   "metadata": {},
   "outputs": [],
   "source": []
  }
 ],
 "metadata": {
  "kernelspec": {
   "display_name": "Python 3",
   "language": "python",
   "name": "python3"
  },
  "language_info": {
   "codemirror_mode": {
    "name": "ipython",
    "version": 3
   },
   "file_extension": ".py",
   "mimetype": "text/x-python",
   "name": "python",
   "nbconvert_exporter": "python",
   "pygments_lexer": "ipython3",
   "version": "3.7.6"
  }
 },
 "nbformat": 4,
 "nbformat_minor": 4
}
