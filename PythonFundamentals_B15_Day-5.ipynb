{
 "cells": [
  {
   "cell_type": "code",
   "execution_count": null,
   "metadata": {},
   "outputs": [],
   "source": [
    "Continue with the list: "
   ]
  },
  {
   "cell_type": "code",
   "execution_count": 2,
   "metadata": {},
   "outputs": [
    {
     "name": "stdout",
     "output_type": "stream",
     "text": [
      "['soumya', 'ravi', 'aarav', 'savita', 'ena', 'ujjawal']\n"
     ]
    },
    {
     "data": {
      "text/plain": [
       "list"
      ]
     },
     "execution_count": 2,
     "metadata": {},
     "output_type": "execute_result"
    }
   ],
   "source": [
    "students = ['soumya','ravi','aarav','savita','ena','ujjawal'] #List created\n",
    "print(students) # Print List\n",
    "type(students) # Type of value assigned in list"
   ]
  },
  {
   "cell_type": "code",
   "execution_count": null,
   "metadata": {},
   "outputs": [],
   "source": [
    "# Introduction to organise a list. Permanent sorting by using sort method."
   ]
  },
  {
   "cell_type": "code",
   "execution_count": null,
   "metadata": {},
   "outputs": [],
   "source": [
    "Req : to arrange my list in alphabetical order"
   ]
  },
  {
   "cell_type": "code",
   "execution_count": 3,
   "metadata": {},
   "outputs": [
    {
     "name": "stdout",
     "output_type": "stream",
     "text": [
      "['aarav', 'ena', 'ravi', 'savita', 'soumya', 'ujjawal']\n"
     ]
    }
   ],
   "source": [
    "students.sort() # Whenever we applied sort() method to the list it make permanent changes in list.\n",
    "print(students)"
   ]
  },
  {
   "cell_type": "code",
   "execution_count": null,
   "metadata": {},
   "outputs": [],
   "source": [
    "# How to achieve temporary sorting in list."
   ]
  },
  {
   "cell_type": "code",
   "execution_count": 4,
   "metadata": {},
   "outputs": [
    {
     "name": "stdout",
     "output_type": "stream",
     "text": [
      "['aarav', 'akshaan', 'ena', 'pihu', 'ravi', 'tia', 'tulika', 'ujjawal']\n"
     ]
    }
   ],
   "source": [
    "my_students = ['ravi','ena','ujjawal','tulika','aarav','akshaan','tia','pihu']\n",
    "print(sorted(my_students)) # for use Temporary sorting in list."
   ]
  },
  {
   "cell_type": "code",
   "execution_count": 5,
   "metadata": {},
   "outputs": [
    {
     "name": "stdout",
     "output_type": "stream",
     "text": [
      "['ravi', 'ena', 'ujjawal', 'tulika', 'aarav', 'akshaan', 'tia', 'pihu']\n"
     ]
    }
   ],
   "source": [
    "print(my_students) # after temporary sorting list is again printed as it was created."
   ]
  },
  {
   "cell_type": "code",
   "execution_count": null,
   "metadata": {},
   "outputs": [],
   "source": [
    "*** Explain the difference Between sort and sorted method in a list*** ## Important Interview Ques? ## \n",
    "\n",
    "The primary difference between the list sort() function and the sorted() function is that the sort() function will modify\n",
    "the list it is called on.\n",
    "The sorted() function will create a new list containing a sorted version of the list it is given.\n",
    "The sorted() function will not modify the list passed as a parameter. If you want to sort a list\n",
    "but still have the original unsorted version, then you would use the sorted() function.\n",
    "If maintaining the original order of the list is unimportant, then you can call the sort() function on the list.\n",
    "\n",
    "A second important difference is that the sorted() function will return a list so you must assign the returned \n",
    "data to a new variable. The sort() function modifies the list in-place and has no return value."
   ]
  },
  {
   "cell_type": "code",
   "execution_count": null,
   "metadata": {},
   "outputs": [],
   "source": [
    "# Print a List in reverse alphabetical order:"
   ]
  },
  {
   "cell_type": "code",
   "execution_count": 6,
   "metadata": {},
   "outputs": [
    {
     "name": "stdout",
     "output_type": "stream",
     "text": [
      "['pihu', 'tia', 'akshaan', 'aarav', 'tulika', 'ujjawal', 'ena', 'ravi']\n"
     ]
    }
   ],
   "source": [
    "my_students.reverse()\n",
    "print(my_students)"
   ]
  },
  {
   "cell_type": "code",
   "execution_count": 7,
   "metadata": {},
   "outputs": [
    {
     "name": "stdout",
     "output_type": "stream",
     "text": [
      "The Zen of Python, by Tim Peters\n",
      "\n",
      "Beautiful is better than ugly.\n",
      "Explicit is better than implicit.\n",
      "Simple is better than complex.\n",
      "Complex is better than complicated.\n",
      "Flat is better than nested.\n",
      "Sparse is better than dense.\n",
      "Readability counts.\n",
      "Special cases aren't special enough to break the rules.\n",
      "Although practicality beats purity.\n",
      "Errors should never pass silently.\n",
      "Unless explicitly silenced.\n",
      "In the face of ambiguity, refuse the temptation to guess.\n",
      "There should be one-- and preferably only one --obvious way to do it.\n",
      "Although that way may not be obvious at first unless you're Dutch.\n",
      "Now is better than never.\n",
      "Although never is often better than *right* now.\n",
      "If the implementation is hard to explain, it's a bad idea.\n",
      "If the implementation is easy to explain, it may be a good idea.\n",
      "Namespaces are one honking great idea -- let's do more of those!\n"
     ]
    }
   ],
   "source": [
    "### Introduction to Zen Python ###\n",
    "import this"
   ]
  },
  {
   "cell_type": "code",
   "execution_count": 8,
   "metadata": {},
   "outputs": [
    {
     "data": {
      "text/plain": [
       "8"
      ]
     },
     "execution_count": 8,
     "metadata": {},
     "output_type": "execute_result"
    }
   ],
   "source": [
    "# How to calculate the lenghth of the elements in a list #\n",
    "len (my_students)"
   ]
  },
  {
   "cell_type": "code",
   "execution_count": 10,
   "metadata": {},
   "outputs": [
    {
     "data": {
      "text/plain": [
       "6"
      ]
     },
     "execution_count": 10,
     "metadata": {},
     "output_type": "execute_result"
    }
   ],
   "source": [
    "len(students)"
   ]
  },
  {
   "cell_type": "code",
   "execution_count": null,
   "metadata": {},
   "outputs": [],
   "source": [
    "## Practice for the Day ##"
   ]
  },
  {
   "cell_type": "code",
   "execution_count": 12,
   "metadata": {},
   "outputs": [
    {
     "name": "stdout",
     "output_type": "stream",
     "text": [
      "['pihu', 'tia', 'geet', 'armaan', 'aarav', 'ujjawal', 'ena', 'saanvi', 'shubham']\n"
     ]
    }
   ],
   "source": [
    "family = ['pihu','tia','geet','armaan','aarav','ujjawal','ena','saanvi','shubham']\n",
    "print(family)"
   ]
  },
  {
   "cell_type": "code",
   "execution_count": 13,
   "metadata": {},
   "outputs": [
    {
     "data": {
      "text/plain": [
       "list"
      ]
     },
     "execution_count": 13,
     "metadata": {},
     "output_type": "execute_result"
    }
   ],
   "source": [
    "type(family)"
   ]
  },
  {
   "cell_type": "code",
   "execution_count": 14,
   "metadata": {},
   "outputs": [
    {
     "name": "stdout",
     "output_type": "stream",
     "text": [
      "['aarav', 'armaan', 'ena', 'geet', 'pihu', 'saanvi', 'shubham', 'tia', 'ujjawal']\n"
     ]
    }
   ],
   "source": [
    "family.sort()\n",
    "print(family)"
   ]
  },
  {
   "cell_type": "code",
   "execution_count": 15,
   "metadata": {},
   "outputs": [
    {
     "name": "stdout",
     "output_type": "stream",
     "text": [
      "['ujjawal', 'tia', 'shubham', 'saanvi', 'pihu', 'geet', 'ena', 'armaan', 'aarav']\n"
     ]
    }
   ],
   "source": [
    "family.reverse()\n",
    "print(family)"
   ]
  },
  {
   "cell_type": "code",
   "execution_count": 20,
   "metadata": {},
   "outputs": [
    {
     "name": "stdout",
     "output_type": "stream",
     "text": [
      "['ashok', 'paapu', 'ravi', 'rekha', 'sandeep', 'suman']\n"
     ]
    }
   ],
   "source": [
    "family1 = ['suman','rekha','paapu','ravi','ashok','sandeep']\n",
    "print (sorted(family1))"
   ]
  },
  {
   "cell_type": "code",
   "execution_count": 21,
   "metadata": {},
   "outputs": [
    {
     "name": "stdout",
     "output_type": "stream",
     "text": [
      "['suman', 'rekha', 'paapu', 'ravi', 'ashok']\n"
     ]
    }
   ],
   "source": [
    "family1.pop()\n",
    "print(family1)"
   ]
  },
  {
   "cell_type": "code",
   "execution_count": 22,
   "metadata": {},
   "outputs": [
    {
     "name": "stdout",
     "output_type": "stream",
     "text": [
      "['suman', 'rekha', 'ravi', 'ashok']\n"
     ]
    }
   ],
   "source": [
    "del family1[2]\n",
    "print(family1)"
   ]
  },
  {
   "cell_type": "code",
   "execution_count": 26,
   "metadata": {},
   "outputs": [
    {
     "name": "stdout",
     "output_type": "stream",
     "text": [
      "['suman', 'rekha', 'loveme', 'loveme', 'loveme', 'ravi', 'ashok']\n"
     ]
    }
   ],
   "source": [
    "family1.insert(2, 'loveme')\n",
    "print(family1)"
   ]
  },
  {
   "cell_type": "code",
   "execution_count": 27,
   "metadata": {},
   "outputs": [
    {
     "name": "stdout",
     "output_type": "stream",
     "text": [
      "['suman', 'rekha', 'loveme', 'loveme', 'loveme', 'ravi', 'ashok', 'Harsha']\n"
     ]
    }
   ],
   "source": [
    "family1.append('Harsha')\n",
    "print(family1)"
   ]
  },
  {
   "cell_type": "code",
   "execution_count": 30,
   "metadata": {},
   "outputs": [
    {
     "name": "stdout",
     "output_type": "stream",
     "text": [
      "['suman', 'rekha', 'ravi', 'ashok', 'Harsha']\n"
     ]
    }
   ],
   "source": [
    "del family1[2:4]\n",
    "print(family1)"
   ]
  },
  {
   "cell_type": "code",
   "execution_count": 33,
   "metadata": {},
   "outputs": [
    {
     "name": "stdout",
     "output_type": "stream",
     "text": [
      "['L', 'o', 'v', 'e', 'Y', 'LoveYou', 'u']\n"
     ]
    }
   ],
   "source": [
    "print(family1)"
   ]
  },
  {
   "cell_type": "code",
   "execution_count": 35,
   "metadata": {},
   "outputs": [
    {
     "name": "stdout",
     "output_type": "stream",
     "text": [
      "['L', 'o', 'v', 'OO', 'Y', 'LoveYou', 'u']\n"
     ]
    }
   ],
   "source": [
    "family1[3] = 'OO'\n",
    "print(family1)"
   ]
  },
  {
   "cell_type": "code",
   "execution_count": null,
   "metadata": {},
   "outputs": [],
   "source": []
  }
 ],
 "metadata": {
  "kernelspec": {
   "display_name": "Python 3",
   "language": "python",
   "name": "python3"
  },
  "language_info": {
   "codemirror_mode": {
    "name": "ipython",
    "version": 3
   },
   "file_extension": ".py",
   "mimetype": "text/x-python",
   "name": "python",
   "nbconvert_exporter": "python",
   "pygments_lexer": "ipython3",
   "version": "3.7.6"
  }
 },
 "nbformat": 4,
 "nbformat_minor": 4
}
