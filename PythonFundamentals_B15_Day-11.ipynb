{
 "cells": [
  {
   "cell_type": "code",
   "execution_count": null,
   "metadata": {},
   "outputs": [],
   "source": [
    "Introduction to while loops:-"
   ]
  },
  {
   "cell_type": "code",
   "execution_count": null,
   "metadata": {},
   "outputs": [],
   "source": [
    "It is totally dependent on occurence and satisfaction of a condition given:-\n",
    "  "
   ]
  },
  {
   "cell_type": "code",
   "execution_count": 7,
   "metadata": {},
   "outputs": [
    {
     "name": "stdout",
     "output_type": "stream",
     "text": [
      "1\n",
      "2\n",
      "3\n",
      "4\n",
      "5\n",
      "6\n",
      "7\n",
      "8\n",
      "9\n",
      "10\n"
     ]
    }
   ],
   "source": [
    "current_num = 1\n",
    "while current_num <=10:   # Till its condition gets satisfied it will be printing the value.\n",
    "    print(current_num)\n",
    "    current_num += 1 # Increasing the number by 1 for each Iteration : a=a+1(a=1)=2+1=3\n",
    "\n"
   ]
  },
  {
   "cell_type": "code",
   "execution_count": 13,
   "metadata": {},
   "outputs": [
    {
     "name": "stdout",
     "output_type": "stream",
     "text": [
      "\n",
      "Tell me something and i will repeat it back for You: \n",
      "Enter 'quit' to end the Program Hello Malik\n",
      "\n",
      "Tell me something and i will repeat it back for You: \n",
      "Enter 'quit' to end the Program Hello Aarav\n",
      "\n",
      "Tell me something and i will repeat it back for You: \n",
      "Enter 'quit' to end the Program quit\n",
      "quit\n"
     ]
    }
   ],
   "source": [
    "prompt=\"\\nTell me something and i will repeat it back for You: \"\n",
    "prompt +=\"\\nEnter 'quit' to end the Program \"\n",
    "message=\" \"\n",
    "while message !='quit':\n",
    "    message = input(prompt)\n",
    "print(message)"
   ]
  },
  {
   "cell_type": "code",
   "execution_count": null,
   "metadata": {},
   "outputs": [],
   "source": [
    "# Introduction to Python Functions: #\n",
    "Code Reusability:-"
   ]
  },
  {
   "cell_type": "code",
   "execution_count": null,
   "metadata": {},
   "outputs": [],
   "source": [
    "Req : Creating a function for greeting \n",
    "    1. How do you define a function ---> def keyword\n",
    "    2. give the keyword name in the small case letters.(best practice approach)\n",
    "    3. always maintain the doc string of your function."
   ]
  },
  {
   "cell_type": "code",
   "execution_count": 25,
   "metadata": {},
   "outputs": [
    {
     "name": "stdout",
     "output_type": "stream",
     "text": [
      "Hello\n"
     ]
    }
   ],
   "source": [
    "def greet_user(): # Defining Finction\n",
    "    \"\"\"Display a simple Greeting \"\"\" # Doc String\n",
    "    print('Hello')\n",
    "greet_user() # Function Calling"
   ]
  },
  {
   "cell_type": "code",
   "execution_count": null,
   "metadata": {},
   "outputs": [],
   "source": [
    "Further Enhancement of the code:\n",
    "    Req : Greeting the Customer"
   ]
  },
  {
   "cell_type": "code",
   "execution_count": 36,
   "metadata": {},
   "outputs": [
    {
     "name": "stdout",
     "output_type": "stream",
     "text": [
      " Hello Welcome Back to Amazon Shopping Arun\n"
     ]
    }
   ],
   "source": [
    "def greet_user(username): # Parameter Passing to the function\n",
    "    \"\"\"Display a simple greeting to the user\"\"\"\n",
    "    print(f\" Hello Welcome Back to Amazon Shopping {username.title()}\")\n",
    "greet_user('arun') # passing argument to a function\n",
    "    "
   ]
  },
  {
   "cell_type": "code",
   "execution_count": 37,
   "metadata": {},
   "outputs": [
    {
     "name": "stdout",
     "output_type": "stream",
     "text": [
      " Hello Welcome Back to Amazon Shopping Ashok\n"
     ]
    }
   ],
   "source": [
    "greet_user('ashok')"
   ]
  },
  {
   "cell_type": "code",
   "execution_count": 38,
   "metadata": {},
   "outputs": [
    {
     "name": "stdout",
     "output_type": "stream",
     "text": [
      " Hello Welcome Back to Amazon Shopping Aarav\n"
     ]
    }
   ],
   "source": [
    "greet_user('aarav')"
   ]
  },
  {
   "cell_type": "code",
   "execution_count": null,
   "metadata": {},
   "outputs": [],
   "source": []
  },
  {
   "cell_type": "code",
   "execution_count": null,
   "metadata": {},
   "outputs": [],
   "source": []
  }
 ],
 "metadata": {
  "kernelspec": {
   "display_name": "Python 3",
   "language": "python",
   "name": "python3"
  },
  "language_info": {
   "codemirror_mode": {
    "name": "ipython",
    "version": 3
   },
   "file_extension": ".py",
   "mimetype": "text/x-python",
   "name": "python",
   "nbconvert_exporter": "python",
   "pygments_lexer": "ipython3",
   "version": "3.7.6"
  }
 },
 "nbformat": 4,
 "nbformat_minor": 4
}
