{
 "cells": [
  {
   "cell_type": "code",
   "execution_count": null,
   "metadata": {},
   "outputs": [],
   "source": [
    "## Introduction to Looping statement: ##"
   ]
  },
  {
   "cell_type": "code",
   "execution_count": null,
   "metadata": {},
   "outputs": [],
   "source": [
    "for loop : Introduction"
   ]
  },
  {
   "cell_type": "code",
   "execution_count": 1,
   "metadata": {},
   "outputs": [
    {
     "name": "stdout",
     "output_type": "stream",
     "text": [
      "['ravi', 'ena', 'ujjawal', 'shanaya', 'armaan', 'tia', 'geet', 'tia']\n"
     ]
    }
   ],
   "source": [
    "students = ['ravi', 'ena', 'ujjawal','shanaya','armaan','tia','geet','tia'] # list\n",
    "print(students) # Print list"
   ]
  },
  {
   "cell_type": "code",
   "execution_count": 4,
   "metadata": {},
   "outputs": [
    {
     "name": "stdout",
     "output_type": "stream",
     "text": [
      " Yo are doing a Good Job, geet\n"
     ]
    }
   ],
   "source": [
    "print(f\" Yo are doing a Good Job, {students[6]}\") # Print a F\" String message along with one of the element."
   ]
  },
  {
   "cell_type": "code",
   "execution_count": 5,
   "metadata": {},
   "outputs": [
    {
     "name": "stdout",
     "output_type": "stream",
     "text": [
      "ravi\n",
      "ena\n",
      "ujjawal\n",
      "shanaya\n",
      "armaan\n",
      "tia\n",
      "geet\n",
      "tia\n"
     ]
    }
   ],
   "source": [
    "for student in students: # Usage of temp variable in a loop statement.\n",
    "    print(student) # Print by temp variable."
   ]
  },
  {
   "cell_type": "code",
   "execution_count": 6,
   "metadata": {},
   "outputs": [
    {
     "name": "stdout",
     "output_type": "stream",
     "text": [
      " You are doing a good Job ravi\n",
      " You are doing a good Job ena\n",
      " You are doing a good Job ujjawal\n",
      " You are doing a good Job shanaya\n",
      " You are doing a good Job armaan\n",
      " You are doing a good Job tia\n",
      " You are doing a good Job geet\n",
      " You are doing a good Job tia\n"
     ]
    }
   ],
   "source": [
    "for student in students: # For Loop statement\n",
    "    print(f\" You are doing a good Job {student}\") "
   ]
  },
  {
   "cell_type": "code",
   "execution_count": 10,
   "metadata": {},
   "outputs": [],
   "source": [
    "# General Syntex of for loop statement\n",
    "# for temp_var in main_var: # Loop statement temp var with main variable\n",
    "    #print(temp_var)''' # space before print in statement is Indentation space for a loop statment."
   ]
  },
  {
   "cell_type": "code",
   "execution_count": 11,
   "metadata": {},
   "outputs": [
    {
     "name": "stdout",
     "output_type": "stream",
     "text": [
      "ravi\n",
      "ena\n",
      "ujjawal\n",
      "shanaya\n",
      "armaan\n",
      "tia\n",
      "geet\n",
      "tia\n"
     ]
    }
   ],
   "source": [
    "for student in students: # for temp var(student) in students(main var):\n",
    "    #print(student) print temp variable\n",
    "    print(student)"
   ]
  },
  {
   "cell_type": "code",
   "execution_count": 12,
   "metadata": {},
   "outputs": [
    {
     "name": "stdout",
     "output_type": "stream",
     "text": [
      "ravi\n",
      "ena\n",
      "ujjawal\n",
      "shanaya\n",
      "armaan\n",
      "tia\n",
      "geet\n",
      "tia\n"
     ]
    }
   ],
   "source": [
    "for x in students: # we can take any char or string as a temp variable.\n",
    "    print(x)"
   ]
  },
  {
   "cell_type": "code",
   "execution_count": 13,
   "metadata": {},
   "outputs": [
    {
     "name": "stdout",
     "output_type": "stream",
     "text": [
      "apple\n",
      "banana\n",
      "orange\n",
      "peach\n",
      "kiwi\n",
      "grapes\n"
     ]
    }
   ],
   "source": [
    "fruits = ['apple','banana','orange','peach','kiwi','grapes']\n",
    "for fruit in fruits:\n",
    "    print(fruit)"
   ]
  },
  {
   "cell_type": "code",
   "execution_count": null,
   "metadata": {},
   "outputs": [],
   "source": [
    "#enhancement of for loop code: "
   ]
  },
  {
   "cell_type": "code",
   "execution_count": 16,
   "metadata": {},
   "outputs": [
    {
     "name": "stdout",
     "output_type": "stream",
     "text": [
      " Keep up the Good work well done students ravi\n",
      " Keep up the Good work well done students ena\n",
      " Keep up the Good work well done students ujjawal\n",
      " Keep up the Good work well done students shanaya\n",
      " Keep up the Good work well done students armaan\n",
      " Keep up the Good work well done students tia\n",
      " Keep up the Good work well done students geet\n",
      " Keep up the Good work well done students tia\n"
     ]
    }
   ],
   "source": [
    "for x in students:\n",
    "    print(f\" Keep up the Good work well done students {x}\")"
   ]
  },
  {
   "cell_type": "code",
   "execution_count": 18,
   "metadata": {},
   "outputs": [
    {
     "name": "stdout",
     "output_type": "stream",
     "text": [
      " Keep up the Good work well done students ravi\n",
      " Looking forward to recieve all your practice files today ravi\n",
      "\n",
      " Keep up the Good work well done students ena\n",
      " Looking forward to recieve all your practice files today ena\n",
      "\n",
      " Keep up the Good work well done students ujjawal\n",
      " Looking forward to recieve all your practice files today ujjawal\n",
      "\n",
      " Keep up the Good work well done students shanaya\n",
      " Looking forward to recieve all your practice files today shanaya\n",
      "\n",
      " Keep up the Good work well done students armaan\n",
      " Looking forward to recieve all your practice files today armaan\n",
      "\n",
      " Keep up the Good work well done students tia\n",
      " Looking forward to recieve all your practice files today tia\n",
      "\n",
      " Keep up the Good work well done students geet\n",
      " Looking forward to recieve all your practice files today geet\n",
      "\n",
      " Keep up the Good work well done students tia\n",
      " Looking forward to recieve all your practice files today tia\n",
      "\n"
     ]
    }
   ],
   "source": [
    "for x in students:\n",
    "    print(f\" Keep up the Good work well done students {x}\")\n",
    "    print(f\" Looking forward to recieve all your practice files today {x}\\n\")\n",
    "    "
   ]
  },
  {
   "cell_type": "code",
   "execution_count": 20,
   "metadata": {},
   "outputs": [
    {
     "name": "stdout",
     "output_type": "stream",
     "text": [
      " Keep up the Good work well done students ravi\n",
      " Looking forward to recieve all your practice files today ravi\n",
      "\n",
      " Keep up the Good work well done students ena\n",
      " Looking forward to recieve all your practice files today ena\n",
      "\n",
      " Keep up the Good work well done students ujjawal\n",
      " Looking forward to recieve all your practice files today ujjawal\n",
      "\n",
      " Keep up the Good work well done students shanaya\n",
      " Looking forward to recieve all your practice files today shanaya\n",
      "\n",
      " Keep up the Good work well done students armaan\n",
      " Looking forward to recieve all your practice files today armaan\n",
      "\n",
      " Keep up the Good work well done students tia\n",
      " Looking forward to recieve all your practice files today tia\n",
      "\n",
      " Keep up the Good work well done students geet\n",
      " Looking forward to recieve all your practice files today geet\n",
      "\n",
      " Keep up the Good work well done students tia\n",
      " Looking forward to recieve all your practice files today tia\n",
      "\n",
      " Thanks to all of you for showing intrest in learning Python\n"
     ]
    }
   ],
   "source": [
    "for x in students:\n",
    "    print(f\" Keep up the Good work well done students {x}\")\n",
    "    print(f\" Looking forward to recieve all your practice files today {x}\\n\")\n",
    "print(f\" Thanks to all of you for showing intrest in learning Python\")"
   ]
  },
  {
   "cell_type": "code",
   "execution_count": null,
   "metadata": {},
   "outputs": [],
   "source": [
    "# Making a numerical list : Req: print a list with numbers 1-50\n",
    "\n",
    "#syntex : for value in range(1,50):\n",
    "#                print(value)"
   ]
  },
  {
   "cell_type": "code",
   "execution_count": 22,
   "metadata": {},
   "outputs": [
    {
     "name": "stdout",
     "output_type": "stream",
     "text": [
      "1\n",
      "2\n",
      "3\n",
      "4\n",
      "5\n",
      "6\n",
      "7\n",
      "8\n",
      "9\n",
      "10\n",
      "11\n",
      "12\n",
      "13\n",
      "14\n",
      "15\n",
      "16\n",
      "17\n",
      "18\n",
      "19\n",
      "20\n",
      "21\n",
      "22\n",
      "23\n",
      "24\n",
      "25\n",
      "26\n",
      "27\n",
      "28\n",
      "29\n",
      "30\n",
      "31\n",
      "32\n",
      "33\n",
      "34\n",
      "35\n",
      "36\n",
      "37\n",
      "38\n",
      "39\n",
      "40\n",
      "41\n",
      "42\n",
      "43\n",
      "44\n",
      "45\n",
      "46\n",
      "47\n",
      "48\n",
      "49\n",
      "50\n"
     ]
    }
   ],
   "source": [
    "for i in range(1,51): # When we define any range last value in range always be excluded.\n",
    "    print(i)"
   ]
  },
  {
   "cell_type": "code",
   "execution_count": 24,
   "metadata": {},
   "outputs": [
    {
     "name": "stdout",
     "output_type": "stream",
     "text": [
      "[1, 2, 3, 4, 5, 6, 7, 8, 9, 10, 11, 12, 13, 14, 15, 16, 17, 18, 19, 20]\n"
     ]
    }
   ],
   "source": [
    "numbers = list(range(1,21)) # To print a list of numbers in range. --> (if we want to compile up to last value in range then we\n",
    "print(numbers) # need to add increment of +1 there)"
   ]
  },
  {
   "cell_type": "code",
   "execution_count": null,
   "metadata": {},
   "outputs": [],
   "source": []
  }
 ],
 "metadata": {
  "kernelspec": {
   "display_name": "Python 3",
   "language": "python",
   "name": "python3"
  },
  "language_info": {
   "codemirror_mode": {
    "name": "ipython",
    "version": 3
   },
   "file_extension": ".py",
   "mimetype": "text/x-python",
   "name": "python",
   "nbconvert_exporter": "python",
   "pygments_lexer": "ipython3",
   "version": "3.7.6"
  }
 },
 "nbformat": 4,
 "nbformat_minor": 4
}
