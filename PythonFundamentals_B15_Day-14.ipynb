{
 "cells": [
  {
   "cell_type": "code",
   "execution_count": null,
   "metadata": {},
   "outputs": [],
   "source": [
    "Iniatializing the classes by using a special method ----> Constructor"
   ]
  },
  {
   "cell_type": "code",
   "execution_count": null,
   "metadata": {},
   "outputs": [],
   "source": [
    "Req : To Create a do class\n",
    "    we will creating a method for the dog.\n",
    "    \n",
    "    __init__ : Special Method/Magical Method called as constructor"
   ]
  },
  {
   "cell_type": "code",
   "execution_count": 28,
   "metadata": {},
   "outputs": [
    {
     "name": "stdout",
     "output_type": "stream",
     "text": [
      "It Got Executed\n"
     ]
    }
   ],
   "source": [
    "class Dog: # Define class\n",
    "    \"\"\" A Simple attempt to Model a dog\"\"\"\n",
    "    def __init__(self,name,age): # Constructor special method.\n",
    "        \"\"\" Iniatilizing the attributes\"\"\"\n",
    "        self.name = name # attribute\n",
    "        self.age = age\n",
    "        print(\"It Got Executed\")\n",
    "    def sit(self): #Method\n",
    "        \"\"\"Simulate a dog sitting in response to a command\"\"\"\n",
    "        print(f\"{self.name} is now sitting\")\n",
    "    def roll_over(self):\n",
    "        \"\"\"Simulate a dog roll over in response to a command\"\"\"\n",
    "        print(f\"{self.name} is now rolling over\")\n",
    "xobj = Dog('bruno',3) # Directly we can pass the args"
   ]
  },
  {
   "cell_type": "code",
   "execution_count": 29,
   "metadata": {},
   "outputs": [
    {
     "name": "stdout",
     "output_type": "stream",
     "text": [
      "bruno is now sitting\n"
     ]
    }
   ],
   "source": [
    "xobj.sit() # Object Creation"
   ]
  },
  {
   "cell_type": "code",
   "execution_count": 30,
   "metadata": {
    "scrolled": true
   },
   "outputs": [
    {
     "name": "stdout",
     "output_type": "stream",
     "text": [
      "bruno is now sitting\n"
     ]
    }
   ],
   "source": [
    "xobj.sit()"
   ]
  },
  {
   "cell_type": "code",
   "execution_count": 31,
   "metadata": {},
   "outputs": [
    {
     "name": "stdout",
     "output_type": "stream",
     "text": [
      "bruno is now rolling over\n"
     ]
    }
   ],
   "source": [
    "xobj.roll_over()"
   ]
  },
  {
   "cell_type": "code",
   "execution_count": null,
   "metadata": {},
   "outputs": [],
   "source": [
    "Create a Class\n",
    "1. take the name from the user as an input\n",
    "2. display the name of the user on the screen.\n",
    "3. Greet the User."
   ]
  },
  {
   "cell_type": "code",
   "execution_count": 32,
   "metadata": {},
   "outputs": [],
   "source": [
    "class Test2:\n",
    "    \"\"\"attempt to design the page\"\"\"\n",
    "    def createname(self,name):\n",
    "        \"\"\"Taking the name input from the User\"\"\"\n",
    "        self.name = name\n",
    "    def displayname(self):\n",
    "        print(self.name)\n",
    "    def greetuser(self):\n",
    "        print(f\" Good to see you again {self.name}\")\n",
    "yobj = Test2() # Unable to pass any args directly.\n",
    "        "
   ]
  },
  {
   "cell_type": "code",
   "execution_count": 34,
   "metadata": {},
   "outputs": [],
   "source": [
    "yobj.createname('Ravi Malik')"
   ]
  },
  {
   "cell_type": "code",
   "execution_count": 35,
   "metadata": {},
   "outputs": [
    {
     "name": "stdout",
     "output_type": "stream",
     "text": [
      "Ravi Malik\n"
     ]
    }
   ],
   "source": [
    "yobj.displayname()"
   ]
  },
  {
   "cell_type": "code",
   "execution_count": 36,
   "metadata": {},
   "outputs": [
    {
     "name": "stdout",
     "output_type": "stream",
     "text": [
      " Good to see you again Ravi Malik\n"
     ]
    }
   ],
   "source": [
    "yobj.greetuser()"
   ]
  },
  {
   "cell_type": "code",
   "execution_count": null,
   "metadata": {},
   "outputs": [],
   "source": []
  }
 ],
 "metadata": {
  "kernelspec": {
   "display_name": "Python 3",
   "language": "python",
   "name": "python3"
  },
  "language_info": {
   "codemirror_mode": {
    "name": "ipython",
    "version": 3
   },
   "file_extension": ".py",
   "mimetype": "text/x-python",
   "name": "python",
   "nbconvert_exporter": "python",
   "pygments_lexer": "ipython3",
   "version": "3.7.6"
  }
 },
 "nbformat": 4,
 "nbformat_minor": 4
}
